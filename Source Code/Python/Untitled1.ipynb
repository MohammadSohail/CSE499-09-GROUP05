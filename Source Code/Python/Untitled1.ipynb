{
 "cells": [
  {
   "cell_type": "code",
   "execution_count": 1,
   "metadata": {},
   "outputs": [],
   "source": [
    "import collections\n",
    "import networkx as nx\n",
    "import matplotlib.pyplot as nzm\n",
    "%matplotlib inline"
   ]
  },
  {
   "cell_type": "code",
   "execution_count": 2,
   "metadata": {},
   "outputs": [
    {
     "data": {
      "text/plain": [
       "['.anaconda',\n",
       " '.android',\n",
       " '.atom',\n",
       " '.conda',\n",
       " '.condarc',\n",
       " '.IdeaIC2019.1',\n",
       " '.ipynb_checkpoints',\n",
       " '.ipython',\n",
       " '.jupyter',\n",
       " '.matplotlib',\n",
       " '.PyCharmCE2019.1',\n",
       " '2015_FIFA_1M.txt',\n",
       " '3D Objects',\n",
       " '9_11_HIJACKERS_ASSOCIATES.txt',\n",
       " 'Amazon0302.txt',\n",
       " 'Anaconda3',\n",
       " 'AppData',\n",
       " 'Application Data',\n",
       " 'artist_edges_text.txt',\n",
       " 'as network.ipynb',\n",
       " 'BALIBOMBING2002_2000.txt',\n",
       " 'com-amazon.all.dedup.cmty.txt',\n",
       " 'com-amazon.top5000.cmty.txt',\n",
       " 'com-amazon.ungraph.txt',\n",
       " 'CommViolPredUnnormalizedData.txt',\n",
       " 'company_edges_txt.txt',\n",
       " 'Contacts',\n",
       " 'Cookies',\n",
       " 'CSE499-09-GROUP05-master',\n",
       " 'Desktop',\n",
       " 'Documents',\n",
       " 'Downloads',\n",
       " 'email-Eu-core-temporal-Dept1.txt',\n",
       " 'email-Eu-core-temporal-Dept2.txt',\n",
       " 'email-Eu-core-temporal-Dept3.txt',\n",
       " 'email-Eu-core-temporal-Dept4.txt',\n",
       " 'Favorites',\n",
       " 'government_edges_txt.txt',\n",
       " 'IdeaProjects',\n",
       " 'IntelGraphicsProfiles',\n",
       " 'Links',\n",
       " 'Local Settings',\n",
       " 'Mali_Terrorist_Network.txt',\n",
       " 'MicrosoftEdgeBackups',\n",
       " 'Music',\n",
       " 'My Documents',\n",
       " 'NetHood',\n",
       " 'NTUSER.DAT',\n",
       " 'ntuser.dat.LOG1',\n",
       " 'ntuser.dat.LOG2',\n",
       " 'NTUSER.DAT{1c3790b4-b8ad-11e8-aa21-e41d2d101530}.TM.blf',\n",
       " 'NTUSER.DAT{1c3790b4-b8ad-11e8-aa21-e41d2d101530}.TMContainer00000000000000000001.regtrans-ms',\n",
       " 'NTUSER.DAT{1c3790b4-b8ad-11e8-aa21-e41d2d101530}.TMContainer00000000000000000002.regtrans-ms',\n",
       " 'ntuser.ini',\n",
       " 'OneDrive',\n",
       " 'p2p-Gnutella04.txt',\n",
       " 'p2p-Gnutella05.txt',\n",
       " 'p2p-Gnutella06.txt',\n",
       " 'p2p-Gnutella08.txt',\n",
       " 'Pictures',\n",
       " 'plot_degree_histogram.ipynb',\n",
       " 'politician_edges_txt.txt',\n",
       " 'PrintHood',\n",
       " 'Recent',\n",
       " 'Saved Games',\n",
       " 'Searches',\n",
       " 'SendTo',\n",
       " 'Start Menu',\n",
       " 'Templates',\n",
       " 'Untitled.ipynb',\n",
       " 'Untitled1.ipynb',\n",
       " 'Videos']"
      ]
     },
     "execution_count": 2,
     "metadata": {},
     "output_type": "execute_result"
    }
   ],
   "source": [
    "import os\n",
    "os.listdir()"
   ]
  },
  {
   "cell_type": "code",
   "execution_count": 9,
   "metadata": {},
   "outputs": [],
   "source": [
    "#read in file\n",
    "p = nx.read_edgelist('email-Eu-core-temporal-Dept4.txt',create_using=nx.Graph(),nodetype=int)"
   ]
  },
  {
   "cell_type": "code",
   "execution_count": 10,
   "metadata": {},
   "outputs": [
    {
     "name": "stdout",
     "output_type": "stream",
     "text": [
      "Name: \n",
      "Type: Graph\n",
      "Number of nodes: 142\n",
      "Number of edges: 833\n",
      "Average degree:  11.7324\n"
     ]
    }
   ],
   "source": [
    "print(nx.info(p))"
   ]
  },
  {
   "cell_type": "code",
   "execution_count": null,
   "metadata": {},
   "outputs": [],
   "source": []
  }
 ],
 "metadata": {
  "kernelspec": {
   "display_name": "Python 3",
   "language": "python",
   "name": "python3"
  },
  "language_info": {
   "codemirror_mode": {
    "name": "ipython",
    "version": 3
   },
   "file_extension": ".py",
   "mimetype": "text/x-python",
   "name": "python",
   "nbconvert_exporter": "python",
   "pygments_lexer": "ipython3",
   "version": "3.7.3"
  }
 },
 "nbformat": 4,
 "nbformat_minor": 2
}
