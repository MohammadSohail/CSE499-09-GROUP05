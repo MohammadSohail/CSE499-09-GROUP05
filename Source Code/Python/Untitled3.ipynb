{
 "cells": [
  {
   "cell_type": "code",
   "execution_count": null,
   "metadata": {},
   "outputs": [],
   "source": [
    "import collections\n",
    "import networkx as nx\n",
    "import matplotlib.pyplot as nzm\n",
    "%matplotlib inline\n",
    "import os\n",
    "os.listdir()\n",
    "#read in file\n",
    "p = nx.read_edgelist('com-amazon.all.dedup.cmty.txt',create_using=nx.Graph(),nodetype=int)\n"
   ]
  },
  {
   "cell_type": "code",
   "execution_count": null,
   "metadata": {},
   "outputs": [],
   "source": [
    "%%capture cap --no-stderr\n",
    "#nx.pagerank(p, alpha=0.9)\n",
    "with open('com-amazon.all.dedup.cmty_eigenvector.txt', 'a') as f:\n",
    "    f.write(cap.stdout)\n",
    "    print(nx.eigenvector_centrality(p))\n",
    "f.close()"
   ]
  },
  {
   "cell_type": "code",
   "execution_count": null,
   "metadata": {},
   "outputs": [],
   "source": []
  }
 ],
 "metadata": {
  "kernelspec": {
   "display_name": "Python 3",
   "language": "python",
   "name": "python3"
  },
  "language_info": {
   "codemirror_mode": {
    "name": "ipython",
    "version": 3
   },
   "file_extension": ".py",
   "mimetype": "text/x-python",
   "name": "python",
   "nbconvert_exporter": "python",
   "pygments_lexer": "ipython3",
   "version": "3.7.3"
  }
 },
 "nbformat": 4,
 "nbformat_minor": 2
}
