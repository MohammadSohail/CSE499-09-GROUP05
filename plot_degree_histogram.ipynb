{
  "cells": [
    {
      "cell_type": "code",
      "execution_count": null,
      "metadata": {
        "collapsed": false
      },
      "outputs": [],
      "source": [
        "%matplotlib inline"
      ]
    },
    {
      "cell_type": "markdown",
      "metadata": {},
      "source": [
        "\n# Degree histogram\n\n\nDraw degree histogram with matplotlib.\nRandom graph shown as inset\n"
      ]
    },
    {
      "cell_type": "code",
      "execution_count": null,
      "metadata": {
        "collapsed": false
      },
      "outputs": [],
      "source": [
        "import collections\nimport matplotlib.pyplot as plt\nimport networkx as nx\n\nG = nx.gnp_random_graph(100, 0.02)\n\ndegree_sequence = sorted([d for n, d in G.degree()], reverse=True)  # degree sequence\n# print \"Degree sequence\", degree_sequence\ndegreeCount = collections.Counter(degree_sequence)\ndeg, cnt = zip(*degreeCount.items())\n\nfig, ax = plt.subplots()\nplt.bar(deg, cnt, width=0.80, color='b')\n\nplt.title(\"Degree Histogram\")\nplt.ylabel(\"Count\")\nplt.xlabel(\"Degree\")\nax.set_xticks([d + 0.4 for d in deg])\nax.set_xticklabels(deg)\n\n# draw graph in inset\nplt.axes([0.4, 0.4, 0.5, 0.5])\nGcc = sorted(nx.connected_component_subgraphs(G), key=len, reverse=True)[0]\npos = nx.spring_layout(G)\nplt.axis('off')\nnx.draw_networkx_nodes(G, pos, node_size=20)\nnx.draw_networkx_edges(G, pos, alpha=0.4)\n\nplt.show()"
      ]
    }
  ],
  "metadata": {
    "kernelspec": {
      "display_name": "Python 3",
      "language": "python",
      "name": "python3"
    },
    "language_info": {
      "codemirror_mode": {
        "name": "ipython",
        "version": 3
      },
      "file_extension": ".py",
      "mimetype": "text/x-python",
      "name": "python",
      "nbconvert_exporter": "python",
      "pygments_lexer": "ipython3",
      "version": "3.7.1"
    }
  },
  "nbformat": 4,
  "nbformat_minor": 0
}